{
 "cells": [
  {
   "cell_type": "code",
   "execution_count": 1,
   "id": "3de879c8",
   "metadata": {},
   "outputs": [],
   "source": [
    "'''\n",
    "7) Text Analytics\n",
    "1. Extract Sample document and apply following document preprocessing methods: \n",
    "Tokenization, POS Tagging, stop words removal, Stemming and Lemmatization.\n",
    "2. Create representation of documents by calculating Term Frequency and Inverse \n",
    "Document Frequency.\n",
    "\n",
    "nltk.download('stopwords') --> if not download\n",
    "'''\n",
    "None"
   ]
  },
  {
   "cell_type": "code",
   "execution_count": 2,
   "id": "ad1175ca",
   "metadata": {},
   "outputs": [],
   "source": [
    "import nltk \n",
    "from nltk.tokenize import word_tokenize\n",
    "from nltk.corpus import stopwords\n",
    "from nltk.stem import PorterStemmer, WordNetLemmatizer\n",
    "from nltk import pos_tag "
   ]
  },
  {
   "cell_type": "code",
   "execution_count": 3,
   "id": "69d2805f",
   "metadata": {},
   "outputs": [],
   "source": [
    "# 1. Extract Sample document and apply following document preprocessing methods: \n",
    "# Tokenization, POS Tagging, stop words removal, Stemming and Lemmatization."
   ]
  },
  {
   "cell_type": "code",
   "execution_count": 4,
   "id": "bb40eed9",
   "metadata": {},
   "outputs": [
    {
     "name": "stdout",
     "output_type": "stream",
     "text": [
      "['Hello', ',', 'i', 'am', 'john', 'wayne', 'currently', 'working', 'as', 'a', 'software', 'developer', 'at', 'google', '.', 'my', 'hobies', 'are', 'running', ',', 'reading', ',', 'playing']\n"
     ]
    }
   ],
   "source": [
    "sample_document = 'Hello, i am john wayne currently working as a software developer at google. my hobies are running,reading,playing'\n",
    "# 1) Tokenization\n",
    "tokenized_words = word_tokenize(sample_document)\n",
    "print(tokenized_words)"
   ]
  },
  {
   "cell_type": "code",
   "execution_count": 5,
   "id": "84946514",
   "metadata": {},
   "outputs": [
    {
     "name": "stdout",
     "output_type": "stream",
     "text": [
      "[('Hello', 'NNP'), (',', ','), ('i', 'NN'), ('am', 'VBP'), ('john', 'JJ'), ('wayne', 'NN'), ('currently', 'RB'), ('working', 'VBG'), ('as', 'IN'), ('a', 'DT'), ('software', 'NN'), ('developer', 'NN'), ('at', 'IN'), ('google', 'NN'), ('.', '.'), ('my', 'PRP$'), ('hobies', 'NNS'), ('are', 'VBP'), ('running', 'VBG'), (',', ','), ('reading', 'NN'), (',', ','), ('playing', 'VBG')]\n"
     ]
    }
   ],
   "source": [
    "# 2) POS Tagging\n",
    "pos_tags = pos_tag(tokenized_words)\n",
    "print(pos_tags)"
   ]
  },
  {
   "cell_type": "code",
   "execution_count": 6,
   "id": "1f21dcd6",
   "metadata": {},
   "outputs": [
    {
     "name": "stdout",
     "output_type": "stream",
     "text": [
      "Filtered List : ['Hello', ',', 'john', 'wayne', 'currently', 'working', 'software', 'developer', 'google', '.', 'hobies', 'running', ',', 'reading', ',', 'playing']\n"
     ]
    }
   ],
   "source": [
    "# 3) Stop words\n",
    "stop_words = stopwords.words('english')\n",
    "Filtered_list = []\n",
    "for i in tokenized_words:\n",
    "    if i not in stop_words:\n",
    "        Filtered_list.append(i)\n",
    "        \n",
    "print('Filtered List :',Filtered_list)"
   ]
  },
  {
   "cell_type": "code",
   "execution_count": 7,
   "id": "8aa1b32b",
   "metadata": {},
   "outputs": [
    {
     "name": "stdout",
     "output_type": "stream",
     "text": [
      "Stemmed Words : ['hello', ',', 'john', 'wayn', 'current', 'work', 'softwar', 'develop', 'googl', '.', 'hobi', 'run', ',', 'read', ',', 'play']\n"
     ]
    }
   ],
   "source": [
    "# 4) Stemming\n",
    "stemmer = PorterStemmer()\n",
    "stemmed_words = []\n",
    "for word in Filtered_list:\n",
    "    stemmed_words.append(stemmer.stem(word))\n",
    "print('Stemmed Words :',stemmed_words)"
   ]
  },
  {
   "cell_type": "code",
   "execution_count": 8,
   "id": "49b4d904",
   "metadata": {},
   "outputs": [
    {
     "name": "stdout",
     "output_type": "stream",
     "text": [
      "Lemmatized Words ['Hello', ',', 'john', 'wayne', 'currently', 'working', 'software', 'developer', 'google', '.', 'hobies', 'running', ',', 'reading', ',', 'playing']\n"
     ]
    }
   ],
   "source": [
    "# 5) Lemmatization\n",
    "lemmatizer = WordNetLemmatizer()\n",
    "lemmatized_words = []\n",
    "for word in Filtered_list:\n",
    "    lemmatized_words.append(lemmatizer.lemmatize(word))\n",
    "print('Lemmatized Words',lemmatized_words)"
   ]
  },
  {
   "cell_type": "code",
   "execution_count": 9,
   "id": "e924d4f4",
   "metadata": {},
   "outputs": [
    {
     "name": "stdout",
     "output_type": "stream",
     "text": [
      "[[0.24253563 0.24253563 0.24253563 0.24253563 0.24253563 0.24253563\n",
      "  0.24253563 0.24253563 0.24253563 0.24253563 0.24253563 0.24253563\n",
      "  0.24253563 0.24253563 0.24253563 0.24253563 0.24253563]]\n"
     ]
    }
   ],
   "source": [
    "# 2. Create representation of documents by calculating Term Frequency and Inverse \n",
    "# Document Frequency.\n",
    "from sklearn.feature_extraction.text import TfidfVectorizer\n",
    "corpus = [sample_document]\n",
    "tfidf_vectorizer = TfidfVectorizer()\n",
    "tfidf_matrix = tfidf_vectorizer.fit_transform(corpus)\n",
    "print(tfidf_matrix.toarray())"
   ]
  }
 ],
 "metadata": {
  "kernelspec": {
   "display_name": "Python 3 (ipykernel)",
   "language": "python",
   "name": "python3"
  },
  "language_info": {
   "codemirror_mode": {
    "name": "ipython",
    "version": 3
   },
   "file_extension": ".py",
   "mimetype": "text/x-python",
   "name": "python",
   "nbconvert_exporter": "python",
   "pygments_lexer": "ipython3",
   "version": "3.11.9"
  }
 },
 "nbformat": 4,
 "nbformat_minor": 5
}
